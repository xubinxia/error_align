{
 "cells": [
  {
   "cell_type": "markdown",
   "id": "23ab5fd2",
   "metadata": {},
   "source": [
    "## Data and Code for AAAI-AIA  Submission 124"
   ]
  },
  {
   "cell_type": "markdown",
   "id": "5c4ce9aa",
   "metadata": {},
   "source": [
    "### Data and Experimental Results\n",
    "\n",
    "We include data of our experiments under the directory 'data' in this folder, which include three subfolders:\n",
    "1. 'predictions' contains all the predictions of all instances from the models as well as the ground truth;\n",
    "2. 'values_for_metrics' contains all the alignment score we measure between each pair of models in different datasets;\n",
    "3. 'correlations' contains the spearman's R between each pair of measurements in each dataset."
   ]
  },
  {
   "cell_type": "code",
   "execution_count": 1,
   "id": "64579351",
   "metadata": {},
   "outputs": [],
   "source": [
    "import functional.utils as utils\n",
    "import pandas as pd\n",
    "import numpy as np\n",
    "import os\n",
    "import torch\n",
    "from torchmetrics.regression import KLDivergence"
   ]
  },
  {
   "cell_type": "markdown",
   "id": "6a90fd83",
   "metadata": {},
   "source": [
    "The code below sets the dataset and some prediction systems for the later evaluation. To modify the dataset on which these are evaluated, change the variable 'dataset' to one of the following 'image_net_a', 'mpii_cooking', 'epic_kitchen', 'modelvshuman/{specific distortion}'. You must then modify the number of classes 'k' to the appropriate values (see inline comments in the code).\n",
    "\n",
    "Choices for two systems are made by appropriately setting variables 'agent_1' and 'agent_2'. Valid values are those models listed in the Appendix such as 'resnet101', 'inception' for image dataset. "
   ]
  },
  {
   "cell_type": "code",
   "execution_count": 2,
   "id": "01734728",
   "metadata": {},
   "outputs": [],
   "source": [
    "prediction_path = 'data/predictions/'\n",
    "dataset = 'image_net_a' # 'mpii_cooking' with k=87 ; epic_kitchen with k=97; each subset in modelvshuman with k=16\n",
    "k = 200\n",
    "labels = [i for i in range(k)]\n",
    "\n",
    "agent_1 = 'resnet101'\n",
    "agent_2 = 'inception'\n",
    "\n",
    "true_cls = np.load(f'{prediction_path}/{dataset}/true_cls.npy')\n",
    "pred_1 = np.load(f'{prediction_path}/{dataset}/{agent_1}.npy')\n",
    "pred_2 = np.load(f'{prediction_path}/{dataset}/{agent_2}.npy')"
   ]
  },
  {
   "cell_type": "markdown",
   "id": "7f67ea51",
   "metadata": {},
   "source": [
    "### Misclassification Agreement"
   ]
  },
  {
   "cell_type": "code",
   "execution_count": 3,
   "id": "31d8decc",
   "metadata": {},
   "outputs": [],
   "source": [
    "def get_ma(true_cls, pred_1, pred_2, k):\n",
    "    \"\"\"\n",
    "    Get the multiclass agreement for a pair of predictors\n",
    "    Parameters\n",
    "    ----------\n",
    "    true_cls: the ground truth classes (1d numpy array)\n",
    "    pred_1: the predicted results for predictor 1 (1d numpy array)\n",
    "    pred_2: the predicted results for predictor 2 (1d numpy array)\n",
    "    k: the number of classes\n",
    "\n",
    "    Returns ma value, c_observe, c_expectation\n",
    "    -------\n",
    "    \"\"\"\n",
    "    a_mat = utils.generate_error_agreement(np.array(true_cls), np.array(pred_1), np.array(pred_2), k)\n",
    "    total_num = np.sum(a_mat)\n",
    "    pis = np.sum(a_mat, axis=1) / total_num\n",
    "    pjs = np.sum(a_mat, axis=0) / total_num\n",
    "    cexp = 0\n",
    "    for pi, pj in zip(pis, pjs):\n",
    "        cexp += pi*pj\n",
    "    cobse = np.trace(a_mat) / total_num\n",
    "    ma = (cobse-cexp)/(1-cexp)\n",
    "    return ma, cobse, cexp"
   ]
  },
  {
   "cell_type": "code",
   "execution_count": 4,
   "id": "d95c6876",
   "metadata": {},
   "outputs": [
    {
     "name": "stdout",
     "output_type": "stream",
     "text": [
      "the Misclassification Agreement between resnet101 and inception is 0.3249500206107583\n"
     ]
    }
   ],
   "source": [
    "ma, _, _ = get_ma(true_cls, pred_1, pred_2, k)\n",
    "print(f'the Misclassification Agreement between {agent_1} and {agent_2} is {ma}')"
   ]
  },
  {
   "cell_type": "markdown",
   "id": "adba46b3",
   "metadata": {},
   "source": [
    "### Class-Level Error Similarity"
   ]
  },
  {
   "cell_type": "code",
   "execution_count": 5,
   "id": "be442df3",
   "metadata": {},
   "outputs": [],
   "source": [
    "def get_row_wise_div(conf_emat1, conf_emat2, k, alpha=0.5, weighted=False):\n",
    "    n_0 = []\n",
    "    divs = []\n",
    "    kld = KLDivergence()\n",
    "\n",
    "    for i, (a, b) in enumerate(zip(conf_emat1, conf_emat2)):\n",
    "        ai = np.delete(a, i)\n",
    "        n_ai = np.sum(ai)\n",
    "        pi_ai = (ai+alpha) / (n_ai+(k-1)*alpha) \n",
    "        bi = np.delete(b, i)\n",
    "        n_bi = np.sum(bi)\n",
    "        pi_bi = (bi+alpha) / (n_bi+(k-1)*alpha)\n",
    "        n_0i = n_ai + n_bi\n",
    "        pi_0i = (ai + bi +alpha) / (n_ai + n_bi + (k-1)*alpha) \n",
    "        if n_0i == 0:\n",
    "            div = 0\n",
    "        else:\n",
    "            kld_10 = kld(torch.tensor([pi_ai]), torch.tensor([pi_0i])).item()\n",
    "            kld_20 = kld(torch.tensor([pi_bi]), torch.tensor([pi_0i])).item()\n",
    "            if weighted:\n",
    "                div = (n_ai / n_0i) * kld_10 + (n_bi / n_0i) * kld_20\n",
    "            else:\n",
    "                div = (1/2) * kld_10 + (1/2) * kld_20\n",
    "\n",
    "        n_0.append(n_0i)\n",
    "        divs.append(div)\n",
    "\n",
    "    overall_div = np.sum(np.multiply(n_0 / np.sum(n_0), divs))\n",
    "    return overall_div, divs, n_0"
   ]
  },
  {
   "cell_type": "code",
   "execution_count": 6,
   "id": "5c0bb712",
   "metadata": {},
   "outputs": [
    {
     "name": "stdout",
     "output_type": "stream",
     "text": [
      "the Class-Level Error Similarity between resnet101 and inception is 0.9301440836457868\n"
     ]
    },
    {
     "name": "stderr",
     "output_type": "stream",
     "text": [
      "C:\\Users\\xubinxia\\AppData\\Local\\Temp\\ipykernel_204\\3551705519.py:18: UserWarning: Creating a tensor from a list of numpy.ndarrays is extremely slow. Please consider converting the list to a single numpy.ndarray with numpy.array() before converting to a tensor. (Triggered internally at  C:\\cb\\pytorch_1000000000000\\work\\torch\\csrc\\utils\\tensor_new.cpp:204.)\n",
      "  kld_10 = kld(torch.tensor([pi_ai]), torch.tensor([pi_0i])).item()\n"
     ]
    }
   ],
   "source": [
    "conf_emat1 = utils.get_confusion_errors(true_cls, pred_1, labels)\n",
    "conf_emat2 = utils.get_confusion_errors(true_cls, pred_2, labels)\n",
    "div, _, _ = get_row_wise_div(conf_emat1, conf_emat2, k)\n",
    "cles = 1 / (1 + div)\n",
    "print(f'the Class-Level Error Similarity between {agent_1} and {agent_2} is {cles}')"
   ]
  },
  {
   "cell_type": "markdown",
   "id": "dea3e44d",
   "metadata": {},
   "source": [
    "### Correlation between MA and CLES for a dataset"
   ]
  },
  {
   "cell_type": "code",
   "execution_count": 7,
   "id": "f4f28d9f",
   "metadata": {},
   "outputs": [],
   "source": [
    "def get_div_for_all_pair(class_assignments, agent_list1, agent_list2, true_cls, k, weighted=False):\n",
    "    # get div values for each pair of agent \n",
    "    all_div = np.empty([len(agent_list1), len(agent_list2)])\n",
    "    labels = [i for i in range(k)]\n",
    "    for i, agent_1 in enumerate(agent_list1):\n",
    "        conf_emat1 = utils.get_confusion_errors(true_cls, class_assignments[agent_1], labels)\n",
    "        for j, agent_2 in enumerate(agent_list2):\n",
    "            conf_emat2 = utils.get_confusion_errors(true_cls, class_assignments[agent_2], labels)\n",
    "            div, _ ,_ = get_row_wise_div(conf_emat1, conf_emat2, k, weighted=weighted)\n",
    "            all_div[i][j] = div\n",
    "    return np.array(all_div)\n",
    "\n",
    "\n",
    "def get_ma_for_all_pair(class_assignments, agent_list1, agent_list2, true_cls, k):\n",
    "    # get ma values for each pair of agent \n",
    "    mas = np.zeros((len(agent_list1), len(agent_list2)), dtype=float)\n",
    "    for i, agent_1 in enumerate(agent_list1):\n",
    "        pred_1 = class_assignments[agent_1]\n",
    "        for j, agent_2 in enumerate(agent_list2):\n",
    "            pred_2 = class_assignments[agent_2]\n",
    "            mas[i][j], _, _ = get_ma(true_cls, pred_1, pred_2, k)\n",
    "            if np.isnan(mas[i][j]):\n",
    "                mas[i][j] = 1\n",
    "    return np.array(mas)\n",
    "\n",
    "def get_off_diagonal_values(mat):\n",
    "    return [mat[i][j] for j in range(mat.shape[1]) for i in range(mat.shape[0]) if j > i]"
   ]
  },
  {
   "cell_type": "code",
   "execution_count": 8,
   "id": "c415a42c",
   "metadata": {},
   "outputs": [],
   "source": [
    "agent_list = ['vgg11', 'vgg13', 'vgg16', 'vgg19', 'resnet18', 'resnet50', 'resnet101', 'resnet152',\n",
    "          'densenet121', 'densenet161', 'densenet169', 'densenet201', 'inception',  \n",
    "          'vit_b_16', 'vit_b_32', 'vit_l_16', 'vit_l_32', 'swin_t', 'swin_b', 'swin_s',\n",
    "          'clip_v', 'noisy_student']\n",
    "true_cls = np.load(f'data/predictions/{dataset}/true_cls.npy')\n",
    "class_assignments = {}\n",
    "for agent in agent_list:\n",
    "    ifname = f'data/predictions/{dataset}/{agent}.npy'\n",
    "    pred = np.load(ifname)\n",
    "    class_assignments[agent] = pred\n",
    "divs = get_div_for_all_pair(class_assignments, agent_list, agent_list, true_cls, k)\n",
    "cleses = 1 / (1 + divs)\n",
    "mas = get_ma_for_all_pair(class_assignments, agent_list, agent_list, true_cls, k)"
   ]
  },
  {
   "cell_type": "code",
   "execution_count": 9,
   "id": "ca32afa7",
   "metadata": {},
   "outputs": [
    {
     "name": "stdout",
     "output_type": "stream",
     "text": [
      "Plotting the paired metrics for MA and CLES for all pairs of models in image_net_a\n"
     ]
    },
    {
     "data": {
      "text/plain": [
       "Text(0.5, 1.0, 'image_net_a')"
      ]
     },
     "execution_count": 9,
     "metadata": {},
     "output_type": "execute_result"
    },
    {
     "data": {
      "image/png": "[encoded data removed]",
      "text/plain": [
       "<Figure size 640x480 with 1 Axes>"
      ]
     },
     "metadata": {},
     "output_type": "display_data"
    }
   ],
   "source": [
    "import matplotlib.pyplot as plt\n",
    "\n",
    "print(f'Plotting the paired metrics for MA and CLES for all pairs of models in {dataset}')\n",
    "\n",
    "plt.scatter(get_off_diagonal_values(mas), get_off_diagonal_values(cleses), s=15)\n",
    "plt.xlabel('MA')\n",
    "plt.ylabel('CLES')\n",
    "plt.title(f'{dataset}')"
   ]
  }
 ],
 "metadata": {
  "kernelspec": {
   "display_name": "basic39",
   "language": "python",
   "name": "basic39"
  },
  "language_info": {
   "codemirror_mode": {
    "name": "ipython",
    "version": 3
   },
   "file_extension": ".py",
   "mimetype": "text/x-python",
   "name": "python",
   "nbconvert_exporter": "python",
   "pygments_lexer": "ipython3",
   "version": "3.9.18"
  }
 },
 "nbformat": 4,
 "nbformat_minor": 5
}
